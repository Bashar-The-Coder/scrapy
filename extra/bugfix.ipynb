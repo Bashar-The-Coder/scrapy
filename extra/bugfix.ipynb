{
 "cells": [
  {
   "cell_type": "code",
   "execution_count": 36,
   "metadata": {},
   "outputs": [
    {
     "name": "stdout",
     "output_type": "stream",
     "text": [
      "Success!\n",
      "HTTP error occurred: 404 Client Error: Not Found for url: https://api.github.com/invalid\n",
      "HTTP error occurred: 403 Client Error: Forbidden for url: https://www.ogaan.com/pagelayout/plp/pagerequest?is_ajax=1&req_data%5Bp_no%5D=7&req_data%5Bc_id%5D=3&req_data%5Bc_level%5D=2&req_data%5Bc_has_child%5D=&req_data%5Bc_name%5D=Just%20In&req_data%5Bc_par_id%5D=2&req_data%5Bcat_url_key%5D=just-in&req_data%5Bcat_url_path%5D=just-in&req_data%5Bcat_path%5D=1/2/3&req_data%5Bscroll_req%5D=1&req_data%5Bcon_code%5D=BD&is_search=0\n"
     ]
    }
   ],
   "source": [
    "import requests\n",
    "from requests.exceptions import HTTPError\n",
    "\n",
    "long_url = \"https://www.ogaan.com/pagelayout/plp/pagerequest?is_ajax=1&req_data[p_no]=7&req_data[c_id]=3&req_data[c_level]=2&req_data[c_has_child]=&req_data[c_name]=Just%20In&req_data[c_par_id]=2&req_data[cat_url_key]=just-in&req_data[cat_url_path]=just-in&req_data[cat_path]=1/2/3&req_data[scroll_req]=1&req_data[con_code]=BD&is_search=0\"\n",
    "\n",
    "for url in ['https://api.github.com', 'https://api.github.com/invalid' , long_url]:\n",
    "    try:\n",
    "        response = requests.get(url)\n",
    "        \n",
    "\n",
    "        # If the response was successful, no Exception will be raised\n",
    "        response.raise_for_status()\n",
    "    except HTTPError as http_err:\n",
    "        print(f'HTTP error occurred: {http_err}')  # Python 3.6\n",
    "    except Exception as err:\n",
    "        print(f'Other error occurred: {err}')  # Python 3.6\n",
    "    else:\n",
    "        print('Success!')"
   ]
  },
  {
   "cell_type": "code",
   "execution_count": 71,
   "metadata": {},
   "outputs": [
    {
     "data": {
      "text/plain": [
       "bytes"
      ]
     },
     "execution_count": 71,
     "metadata": {},
     "output_type": "execute_result"
    }
   ],
   "source": [
    "# !The response of a GET request often has some valuable information, \n",
    "# known as a payload, in the message body. Using the attributes and \n",
    "# methods of Response, you can view the payload in a variety of different formats.\n",
    "# To see the response’s content in bytes, you use .content:\n",
    "response = requests.get(\"https://api.github.com\")\n",
    "res_fix =  requests.get(\"https://fixit.com.bd\")\n",
    "response_byte = response.content\n",
    "type(response_byte)"
   ]
  },
  {
   "cell_type": "code",
   "execution_count": 72,
   "metadata": {},
   "outputs": [],
   "source": [
    "# While .content gives you access to the raw bytes \n",
    "# of the response payload, you will often want to convert them into a \n",
    "# string using a character encoding such as UTF-8. response will do that for you when you access .text:\n",
    "res_text = response.text\n"
   ]
  },
  {
   "cell_type": "code",
   "execution_count": 73,
   "metadata": {},
   "outputs": [
    {
     "data": {
      "text/plain": [
       "'utf-8'"
      ]
     },
     "execution_count": 73,
     "metadata": {},
     "output_type": "execute_result"
    }
   ],
   "source": [
    "# Because the decoding of bytes to a str\n",
    "# requires an encoding scheme, requests will try to\n",
    "# guess the encoding based on the response’s \n",
    "# headers if you do not specify one. You can provide an explicit encoding by setting .encoding before accessing .text:\n",
    "response.encoding"
   ]
  },
  {
   "cell_type": "code",
   "execution_count": 74,
   "metadata": {},
   "outputs": [],
   "source": [
    "# If you take a look at the response, \n",
    "# you’ll see that it is actually serialized JSON content.\n",
    "#  To get a dictionary, you could take the str you retrieved from .\n",
    "#  text and deserialize it using json.loads(). However, a simpler way to accomplish this task is to use .json():\n",
    "json_to_dict = response.json()"
   ]
  },
  {
   "cell_type": "code",
   "execution_count": 80,
   "metadata": {},
   "outputs": [
    {
     "data": {
      "text/plain": [
       "{'Connection': 'Keep-Alive', 'Keep-Alive': 'timeout=5, max=100', 'x-powered-by': 'PHP/7.4.32', 'last-modified': 'Sun, 27 Nov 2022 09:38:23 GMT', 'content-type': 'text/html; charset=UTF-8', 'cache-control': 'public, max-age=0', 'expires': 'Sun, 27 Nov 2022 10:01:29 GMT', 'transfer-encoding': 'chunked', 'content-encoding': 'gzip', 'vary': 'Accept-Encoding,Accept-Encoding', 'date': 'Sun, 27 Nov 2022 10:01:29 GMT', 'server': 'LiteSpeed', 'platform': 'hostinger', 'content-security-policy': 'upgrade-insecure-requests', 'alt-svc': 'h3=\":443\"; ma=2592000, h3-29=\":443\"; ma=2592000, h3-Q050=\":443\"; ma=2592000, h3-Q046=\":443\"; ma=2592000, h3-Q043=\":443\"; ma=2592000, quic=\":443\"; ma=2592000; v=\"43,46\"'}"
      ]
     },
     "execution_count": 80,
     "metadata": {},
     "output_type": "execute_result"
    }
   ],
   "source": [
    "# The response headers can give you useful information, \n",
    "# such as the content type of the response\n",
    "# payload and a time limit on how long to cache the response. \n",
    "# To view these headers, access .headers:\n",
    "headers = response.headers\n",
    "fix_headers = res_fix.headers\n",
    "fix_headers"
   ]
  },
  {
   "cell_type": "code",
   "execution_count": 86,
   "metadata": {},
   "outputs": [
    {
     "data": {
      "text/plain": [
       "'application/json; charset=utf-8'"
      ]
     },
     "execution_count": 86,
     "metadata": {},
     "output_type": "execute_result"
    }
   ],
   "source": [
    "# .headers returns a dictionary-like object, allowing you \n",
    "# to access header values by key. For example, to see the \n",
    "# content type of the response payload, you can access Content-Type:\n",
    "response.headers['content-Type']\n",
    "# fix_headers['Content-Type']"
   ]
  },
  {
   "cell_type": "code",
   "execution_count": 94,
   "metadata": {},
   "outputs": [
    {
     "data": {
      "text/plain": [
       "'text/html; charset=UTF-8'"
      ]
     },
     "execution_count": 94,
     "metadata": {},
     "output_type": "execute_result"
    }
   ],
   "source": [
    "#\n",
    "\n",
    "search = requests.get(\"https://fixit.com.bd/\" , params={'q' : 's=epoxy&post_type=product'})\n"
   ]
  },
  {
   "cell_type": "code",
   "execution_count": 95,
   "metadata": {},
   "outputs": [
    {
     "data": {
      "text/plain": [
       "'text/html; charset=UTF-8'"
      ]
     },
     "execution_count": 95,
     "metadata": {},
     "output_type": "execute_result"
    }
   ],
   "source": [
    "search.headers['content-type']"
   ]
  },
  {
   "cell_type": "code",
   "execution_count": 96,
   "metadata": {},
   "outputs": [
    {
     "data": {
      "text/plain": [
       "<RequestsCookieJar[Cookie(version=0, name='PHPSESSID', value='8634b96c9caf2e1f08c15cbb6b655225', port=None, port_specified=False, domain='fixit.com.bd', domain_specified=False, domain_initial_dot=False, path='/', path_specified=True, secure=True, expires=None, discard=True, comment=None, comment_url=None, rest={}, rfc2109=False), Cookie(version=0, name='mailchimp_landing_site', value='https%3A%2F%2Ffixit.com.bd%2F%3Fq%3Ds%253Depoxy%2526post_type%253Dproduct', port=None, port_specified=False, domain='fixit.com.bd', domain_specified=False, domain_initial_dot=False, path='/', path_specified=True, secure=True, expires=1671963222, discard=False, comment=None, comment_url=None, rest={'SameSite': 'Strict'}, rfc2109=False)]>"
      ]
     },
     "execution_count": 96,
     "metadata": {},
     "output_type": "execute_result"
    }
   ],
   "source": [
    "search.cookies"
   ]
  },
  {
   "cell_type": "code",
   "execution_count": 98,
   "metadata": {},
   "outputs": [],
   "source": [
    "payload = {'user_login': 'anonymous', 'user_pass': 'PASSWORD'}\n",
    "url = 'https://fixit.com.bd/wp-login.php?redirect_to=https%3A%2F%2Ffixit.com.bd%2Fwp-admin%2F&reauth=1'\n",
    "x = requests.post(url, data=payload)"
   ]
  },
  {
   "cell_type": "code",
   "execution_count": 1,
   "metadata": {},
   "outputs": [],
   "source": [
    "import requests\n",
    "\n",
    "bd = \"https://www.bd-pratidin.com/world-cup-2022/2022/11/27/833440\"\n",
    "\n",
    "bd = requests.get(bd)"
   ]
  },
  {
   "cell_type": "code",
   "execution_count": 3,
   "metadata": {},
   "outputs": [],
   "source": [
    "\n",
    "# remove html\n",
    "txt = \"<article class=\\\"mt-3\\\" id=\\\"bpsepnil\\\">\\n<div class=\\\"article-ad-right ms-2 mb-2\\\">\\n<div data-position=\\\"desktop-details-article-right\\\" class=\\\"m-0 p-0\\\">\\n<div class=\\\"ads bg-light mb-2 d-flex justify-content-center\\\"><div class=\\\"ad_cl-19\\\" data-id=\\\"19\\\">\\n<div id=\\\"div-gpt-ad-1631793377702-0\\\" style=\\\"min-width: 300px; min-height: 250px;\\\">\\n<script>\\r\\n    googletag.cmd.push(function() { googletag.display('div-gpt-ad-1631793377702-0'); });\\r\\n  </script>\\n</div></div></div></div>\\n</div>\\n<p> এ বারের ফুটবল বিশ্বকাপে আবার অঘটন। মরক্কোর কাছে ০-২ গোলে হেরে গেল বেলজিয়াম। দ্বিতীয়ার্ধে মরক্কোর হয়ে গোল দু’টি করেন আব্দেল হামিদ সাবিরি ও জাকারিয়া আবৌখলাল। প্রথমার্ধে মরক্কোর একটি গোল বাতিল হয়। নইলে লজ্জা আরও বাড়তো বেলজিয়ামের।</p>\\n<p> বিশ্বকাপের গ্রুপ পর্বে এর আগে কখনো আফ্রিকান দেশের বিপক্ষে হারেনি বেলজিয়াম। হারেনি প্রথম রাউন্ডে খেলা নিজেদের শেষ ৮ ম্যাচেই। কিন্তু বিশ্বকাপে নিজেদের ৫০তম ম্যাচটিতে ভেঙে গেল অপরাজেয় ধারা। আজ মরক্কোর কাছে ২-০ গোলে হেরে গেছে গতবারের সেমিফাইনালিস্টরা।</p>\\nফিফা র‍্যাঙ্কিংয়ে ২ নম্বরে থাকা দলটি আফ্রিকার পরাশক্তি মরক্কোর কাছে ২-০ গোলে হেরে বিপাকে পড়েছে।\\n<p> মরক্কোর হয়ে গোলদুটি এসেছে আব্দুলহামিদ সাবিরি ও জাকারিয়া আবুখলালের কাছ থেকে।</p>\\n<p> কানাডার বিপক্ষে জিতলেও ফেবারিট তকমা নিয়ে কাতারে পা দেয়া বেলজিয়াম সেরা ছন্দে ছিল না। আশা করা হচ্ছিল মরক্কোর বিপক্ষে হয়ত নিজেদের ফিরে পাবে তারা। কিন্তু কিসের কি, উল্টো আফ্রিকার দেশটির বিপক্ষে হেরে বসেছে ডি ব্রুইনারা।</p>\\n<p> বিডি প্রতিদিন/আরাফাত</p>\\n</article>\"\n",
    "\n",
    "def remove_html_tags(text):\n",
    "    \"\"\"Remove html tags from a string\"\"\"\n",
    "    import re\n",
    "    clean = re.compile('<.*?>')\n",
    "    return re.sub(clean, '', text)"
   ]
  },
  {
   "cell_type": "code",
   "execution_count": 4,
   "metadata": {},
   "outputs": [
    {
     "name": "stdout",
     "output_type": "stream",
     "text": [
      "\n",
      "\n",
      "\n",
      "\n",
      "\n",
      "\n",
      "    googletag.cmd.push(function() { googletag.display('div-gpt-ad-1631793377702-0'); });\n",
      "  \n",
      "\n",
      "\n",
      " এ বারের ফুটবল বিশ্বকাপে আবার অঘটন। মরক্কোর কাছে ০-২ গোলে হেরে গেল বেলজিয়াম। দ্বিতীয়ার্ধে মরক্কোর হয়ে গোল দু’টি করেন আব্দেল হামিদ সাবিরি ও জাকারিয়া আবৌখলাল। প্রথমার্ধে মরক্কোর একটি গোল বাতিল হয়। নইলে লজ্জা আরও বাড়তো বেলজিয়ামের।\n",
      " বিশ্বকাপের গ্রুপ পর্বে এর আগে কখনো আফ্রিকান দেশের বিপক্ষে হারেনি বেলজিয়াম। হারেনি প্রথম রাউন্ডে খেলা নিজেদের শেষ ৮ ম্যাচেই। কিন্তু বিশ্বকাপে নিজেদের ৫০তম ম্যাচটিতে ভেঙে গেল অপরাজেয় ধারা। আজ মরক্কোর কাছে ২-০ গোলে হেরে গেছে গতবারের সেমিফাইনালিস্টরা।\n",
      "ফিফা র‍্যাঙ্কিংয়ে ২ নম্বরে থাকা দলটি আফ্রিকার পরাশক্তি মরক্কোর কাছে ২-০ গোলে হেরে বিপাকে পড়েছে।\n",
      " মরক্কোর হয়ে গোলদুটি এসেছে আব্দুলহামিদ সাবিরি ও জাকারিয়া আবুখলালের কাছ থেকে।\n",
      " কানাডার বিপক্ষে জিতলেও ফেবারিট তকমা নিয়ে কাতারে পা দেয়া বেলজিয়াম সেরা ছন্দে ছিল না। আশা করা হচ্ছিল মরক্কোর বিপক্ষে হয়ত নিজেদের ফিরে পাবে তারা। কিন্তু কিসের কি, উল্টো আফ্রিকার দেশটির বিপক্ষে হেরে বসেছে ডি ব্রুইনারা।\n",
      " বিডি প্রতিদিন/আরাফাত\n",
      "\n"
     ]
    }
   ],
   "source": [
    "print (remove_html_tags(txt))"
   ]
  },
  {
   "cell_type": "code",
   "execution_count": 2,
   "metadata": {},
   "outputs": [
    {
     "ename": "ModuleNotFoundError",
     "evalue": "No module named 'requests'",
     "output_type": "error",
     "traceback": [
      "\u001b[1;31m---------------------------------------------------------------------------\u001b[0m",
      "\u001b[1;31mModuleNotFoundError\u001b[0m                       Traceback (most recent call last)",
      "Cell \u001b[1;32mIn[2], line 1\u001b[0m\n\u001b[1;32m----> 1\u001b[0m \u001b[39mimport\u001b[39;00m \u001b[39mrequests\u001b[39;00m\n",
      "\u001b[1;31mModuleNotFoundError\u001b[0m: No module named 'requests'"
     ]
    }
   ],
   "source": []
  },
  {
   "cell_type": "code",
   "execution_count": 3,
   "metadata": {},
   "outputs": [
    {
     "name": "stdout",
     "output_type": "stream",
     "text": [
      "Collecting requests\n",
      "  Using cached requests-2.28.1-py3-none-any.whl (62 kB)\n",
      "Collecting idna<4,>=2.5\n",
      "  Using cached idna-3.4-py3-none-any.whl (61 kB)\n",
      "Collecting certifi>=2017.4.17\n",
      "  Using cached certifi-2022.9.24-py3-none-any.whl (161 kB)\n",
      "Collecting charset-normalizer<3,>=2\n",
      "  Using cached charset_normalizer-2.1.1-py3-none-any.whl (39 kB)\n",
      "Collecting urllib3<1.27,>=1.21.1\n",
      "  Downloading urllib3-1.26.13-py2.py3-none-any.whl (140 kB)\n",
      "     ------------------------------------ 140.6/140.6 KB 757.7 kB/s eta 0:00:00\n",
      "Installing collected packages: urllib3, idna, charset-normalizer, certifi, requests\n",
      "Successfully installed certifi-2022.9.24 charset-normalizer-2.1.1 idna-3.4 requests-2.28.1 urllib3-1.26.13\n",
      "Note: you may need to restart the kernel to use updated packages.\n"
     ]
    },
    {
     "name": "stderr",
     "output_type": "stream",
     "text": [
      "  WARNING: The script normalizer.exe is installed in 'c:\\Users\\IT\\.pyenv\\pyenv-win\\versions\\3.9.13\\Scripts' which is not on PATH.\n",
      "  Consider adding this directory to PATH or, if you prefer to suppress this warning, use --no-warn-script-location.\n",
      "WARNING: You are using pip version 22.0.4; however, version 22.3.1 is available.\n",
      "You should consider upgrading via the 'c:\\Users\\IT\\.pyenv\\pyenv-win\\versions\\3.9.13\\python.exe -m pip install --upgrade pip' command.\n"
     ]
    }
   ],
   "source": [
    "%pip install requests"
   ]
  },
  {
   "cell_type": "code",
   "execution_count": 4,
   "metadata": {},
   "outputs": [],
   "source": [
    "import requests"
   ]
  },
  {
   "cell_type": "code",
   "execution_count": 5,
   "metadata": {},
   "outputs": [],
   "source": [
    "r = requests.get(\"https://chaldal.com/\")"
   ]
  },
  {
   "cell_type": "code",
   "execution_count": 7,
   "metadata": {},
   "outputs": [
    {
     "data": {
      "text/plain": [
       "{'Date': 'Wed, 30 Nov 2022 12:30:56 GMT', 'Content-Type': 'text/html; charset=utf-8', 'Transfer-Encoding': 'chunked', 'Connection': 'keep-alive', 'request-context': 'appId=cid-v1:3d3d4ba2-8091-4628-8531-33351bef6510', 'vary': 'Accept-Encoding', 'x-egg-nodename': 'app2-cc', 'x-frame-options': 'SAMEORIGIN', 'x-powered-by': 'Express', 'CF-Cache-Status': 'DYNAMIC', 'Strict-Transport-Security': 'max-age=31536000; includeSubDomains; preload', 'Server': 'cloudflare', 'CF-RAY': '772398e20bb078c4-CGP', 'Content-Encoding': 'gzip'}"
      ]
     },
     "execution_count": 7,
     "metadata": {},
     "output_type": "execute_result"
    }
   ],
   "source": [
    "r.headers"
   ]
  },
  {
   "cell_type": "code",
   "execution_count": 3,
   "metadata": {},
   "outputs": [],
   "source": [
    "x = [\n",
    "            {\n",
    "                \"name\": \"4CH 4 Channel RF Remote Controllers 4 Keys Tran-smitter Rec-eiver Module Four Channel For Arduino Electronics Circuitry & Parts\",\n",
    "                \"nid\": \"129020744\",\n",
    "                \"productUrl\": \"//www.daraz.com.bd/products/4ch-4-channel-rf-remote-controllers-4-keys-tran-smitter-rec-eiver-module-four-channel-for-arduino-electronics-circuitry-parts-i129020744-s1048830219.html?search=1\",\n",
    "                \"image\": \"https://static-01.daraz.com.bd/p/dd0acb097bde696eb6d7662b274ee2ef.jpg\",\n",
    "                \"originalPrice\": \"399.00\",\n",
    "                \"originalPriceShow\": \"৳ 399\",\n",
    "                \"price\": \"330.00\",\n",
    "                \"promotionId\": \"null\",\n",
    "                \"priceShow\": \"৳ 330\",\n",
    "                \"discount\": \"-17%\",\n",
    "                \"ratingScore\": \"3.9\",\n",
    "                \"review\": \"9\",\n",
    "                \"tItemType\": \"nt_product\",\n",
    "                \"location\": \"Bangladesh\",\n",
    "                \"cheapest_sku\": \"129020744_BD-1048830219\",\n",
    "                \"sku\": \"129020744_BD\",\n",
    "                \"skus\": [],\n",
    "                \"description\": [\n",
    "                    \"CMOS Technology\",\n",
    "                    \"Low Power Consumption\",\n",
    "                    \"Very High Noise Immunity\",\n",
    "                    \"Up to 12 Tri-State Code Address Pins\",\n",
    "                    \"Up to 6 Data Pins\",\n",
    "                    \"Wide Range of Operating Voltage: Vcc = 4 ~ 15 Volts\",\n",
    "                    \"Single Resistor Oscillator\",\n",
    "                    \"Momentary Output Type\",\n",
    "                    \"Application environment: Wireless remote control switch, remote control socket, data transmission and remote control toys, anti-theft alarm host, garage doors, gates, gate, the gate door control, such as industry and its remote control sound field, etc.\"\n",
    "                ],\n",
    "                \"brandId\": \"39704\",\n",
    "                \"brandName\": \"No Brand\",\n",
    "                \"sellerId\": \"1000750\",\n",
    "                \"mainSellerId\": \"\",\n",
    "                \"sellerName\": \"Electronics Tech\",\n",
    "                \"restrictedAge\": 0,\n",
    "                \"categories\": [\n",
    "                    10000337,\n",
    "                    10000353,\n",
    "                    10000489\n",
    "                ],\n",
    "                \"itemId\": \"129020744\",\n",
    "                \"skuId\": \"1048830219\",\n",
    "                \"inStock\": True,\n",
    "                \"isAD\": 0,\n",
    "                \"addToCart\": False,\n",
    "                \"adClickTrace\": \"query:electronics;nid:129020744;src:LazadaMainSrp;rn:c55d0cf9c08cf61f911f661f058f326a;region:bd;sku:129020744_BD;price:330.00;client:desktop;supplier_id:1000750;asc_category_id:10000489;item_id:129020744;sku_id:1048830219;shop_id:6947\"\n",
    "            },\n",
    "            {\n",
    "                \"name\": \"RED Color L298N L-298N 298N Motor Driver Dual Channel H-Bridge Motor Driver Control Module For Electronics Circuitry & Parts Arduino Raspberry Pi Smart Robot Car Projects \",\n",
    "                \"nid\": \"147770689\",\n",
    "                \"icons\": [\n",
    "                    {\n",
    "                        \"domClass\": \"1010Badge\",\n",
    "                        \"text\": \"\",\n",
    "                        \"alias\": \"1010Badge\",\n",
    "                        \"type\": \"img\",\n",
    "                        \"group\": \"1\",\n",
    "                        \"showType\": \"0\",\n",
    "                        \"order\": 0,\n",
    "                        \"font-size\": 0,\n",
    "                        \"coins\": False\n",
    "                    }\n",
    "                ],\n",
    "                \"utLogMap\": {\n",
    "                    \"x_object_type\": \"item\",\n",
    "                    \"x_item_ids\": \"147770689\",\n",
    "                    \"scene_pre\": \"search\",\n",
    "                    \"current_price\": \"190.00\",\n",
    "                    \"x_sku_ids\": \"1073526922\",\n",
    "                    \"SN\": \"c55d0cf9c08cf61f911f661f058f326a\",\n",
    "                    \"x_ad\": \"1\",\n",
    "                    \"x_object_id\": \"147770689\"\n",
    "                },\n",
    "                \"productUrl\": \"//www.daraz.com.bd/products/red-color-l298n-l-298n-298n-motor-driver-dual-channel-h-bridge-motor-driver-control-module-for-electronics-circuitry-parts-arduino-raspberry-pi-smart-robot-car-projects-i147770689-s1073526922.html?search=1\",\n",
    "                \"image\": \"https://static-01.daraz.com.bd/p/4fc16530e92656007dfc9f99f1631c96.jpg\",\n",
    "                \"originalPrice\": \"229.00\",\n",
    "                \"originalPriceShow\": \"৳ 229\",\n",
    "                \"price\": \"190.00\",\n",
    "                \"promotionId\": \"null\",\n",
    "                \"priceShow\": \"৳ 190\",\n",
    "                \"discount\": \"-17%\",\n",
    "                \"ratingScore\": \"5\",\n",
    "                \"review\": \"10\",\n",
    "                \"tItemType\": \"nt_product\",\n",
    "                \"location\": \"Bangladesh\",\n",
    "                \"cheapest_sku\": \"147770689_BD-1073526922\",\n",
    "                \"sku\": \"147770689_BD\",\n",
    "                \"skus\": [],\n",
    "                \"description\": [\n",
    "                    \"Module name  : dual H bridge motor drive module\",\n",
    "                    \"Work mode      : H bridge drive (double road)\",\n",
    "                    \"Main control chip  : L298N\",\n",
    "                    \"Logical voltage  : 5V\",\n",
    "                    \"Drive voltage  : 5v-35v\",\n",
    "                    \"Logical current  : 0mA-36mA\",\n",
    "                    \"Driving current  : 2A(MAX single bridge)\",\n",
    "                    \"Maximum power    : 25W\",\n",
    "                    \"Weight     : 30 g\",\n",
    "                    \"Peripheral dimensions : 43*43*27mm\"\n",
    "                ],\n",
    "                \"brandId\": \"39704\",\n",
    "                \"brandName\": \"No Brand\",\n",
    "                \"sellerId\": \"700507287024\",\n",
    "                \"mainSellerId\": \"\",\n",
    "                \"sellerName\": \"Udvabony BD\",\n",
    "                \"thumbs\": [\n",
    "                    {\n",
    "                        \"image\": \"https://static-01.daraz.com.bd/p/4fc16530e92656007dfc9f99f1631c96.jpg\",\n",
    "                        \"productUrl\": \"/products/red-color-l298n-l-298n-298n-motor-driver-dual-channel-h-bridge-motor-driver-control-module-for-electronics-circuitry-parts-arduino-raspberry-pi-smart-robot-car-projects-i147770689-s1073526922.html\",\n",
    "                        \"sku\": \"147770689_BD\",\n",
    "                        \"skuId\": \"1073526922\"\n",
    "                    }\n",
    "                ],\n",
    "                \"restrictedAge\": 0,\n",
    "                \"categories\": [\n",
    "                    10000337,\n",
    "                    10000353,\n",
    "                    10000489\n",
    "                ],\n",
    "                \"clickTrace\": \"query:electronics;nid:147770689;src:LazadaMainSrp;rn:c55d0cf9c08cf61f911f661f058f326a;region:bd;sku:147770689_BD;price:190.00;client:desktop;supplier_id:700507287024;asc_category_id:10000489;item_id:147770689;sku_id:1073526922;shop_id:94590\",\n",
    "                \"addToCartSkus\": [\n",
    "                    {\n",
    "                        \"sku\": \"147770689_BD-1073526922\",\n",
    "                        \"skuId\": \"1073526922\",\n",
    "                        \"count\": 0\n",
    "                    }\n",
    "                ],\n",
    "                \"itemId\": \"147770689\",\n",
    "                \"skuId\": \"1073526922\",\n",
    "                \"inStock\": True,\n",
    "                \"isAD\": 0,\n",
    "                \"addToCart\": False,\n",
    "                \"adClickTrace\": \"query:electronics;nid:147770689;src:LazadaMainSrp;rn:c55d0cf9c08cf61f911f661f058f326a;region:bd;sku:147770689_BD;price:190.00;client:desktop;supplier_id:700507287024;asc_category_id:10000489;item_id:147770689;sku_id:1073526922;shop_id:94590\"\n",
    "            },\n",
    "]"
   ]
  },
  {
   "cell_type": "code",
   "execution_count": 6,
   "metadata": {},
   "outputs": [],
   "source": [
    "import requests\n",
    "r = requests.get(\"https://www.daraz.com.bd/catalog/?_keyori=ss&ajax=true&from=input&page=10&q=electronics&spm=a2a0e.searchlistcategory.search.go.15527d09RegJy9\")"
   ]
  },
  {
   "cell_type": "code",
   "execution_count": 10,
   "metadata": {},
   "outputs": [
    {
     "ename": "NameError",
     "evalue": "name 'json_to_dict' is not defined",
     "output_type": "error",
     "traceback": [
      "\u001b[1;31m---------------------------------------------------------------------------\u001b[0m",
      "\u001b[1;31mNameError\u001b[0m                                 Traceback (most recent call last)",
      "Cell \u001b[1;32mIn[10], line 1\u001b[0m\n\u001b[1;32m----> 1\u001b[0m json_to_dict(r\u001b[39m.\u001b[39mtext)\n",
      "\u001b[1;31mNameError\u001b[0m: name 'json_to_dict' is not defined"
     ]
    }
   ],
   "source": []
  },
  {
   "cell_type": "code",
   "execution_count": null,
   "metadata": {},
   "outputs": [],
   "source": []
  }
 ],
 "metadata": {
  "kernelspec": {
   "display_name": "Python 3.9.13 64-bit ('3.9.13')",
   "language": "python",
   "name": "python3"
  },
  "language_info": {
   "codemirror_mode": {
    "name": "ipython",
    "version": 3
   },
   "file_extension": ".py",
   "mimetype": "text/x-python",
   "name": "python",
   "nbconvert_exporter": "python",
   "pygments_lexer": "ipython3",
   "version": "3.9.13"
  },
  "orig_nbformat": 4,
  "vscode": {
   "interpreter": {
    "hash": "b380aebf12a4dbdfb95b37bb187dd55497b7c23725e89e26c7a846df0fc0210c"
   }
  }
 },
 "nbformat": 4,
 "nbformat_minor": 2
}
