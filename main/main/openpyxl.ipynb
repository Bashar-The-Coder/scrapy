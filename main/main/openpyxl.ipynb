{
 "cells": [
  {
   "cell_type": "code",
   "execution_count": 10,
   "metadata": {},
   "outputs": [],
   "source": [
    "import openpyxl as xl\n",
    "from openpyxl import Workbook\n",
    "import numpy as np\n",
    "\n",
    "wb = Workbook()\n",
    "sheet = wb['Sheet']\n",
    "age = sheet.cell(row=1, column=1, value='age')\n",
    "gender = sheet.cell(row=1, column=2, value='gender')\n",
    "genre = sheet.cell(row=1, column=3, value='genre')\n",
    "\n",
    "\n",
    "cell = sheet.cell(row=2, column=1)\n",
    "cell.value = np.random.randint(100)\n",
    "\n",
    "\n",
    "cell = sheet.cell(row=3, column=1)\n",
    "cell.value = np.random.randint(100)\n",
    "\n",
    "\n",
    "\n",
    "wb.save('music.xlsx')"
   ]
  },
  {
   "cell_type": "code",
   "execution_count": 12,
   "metadata": {},
   "outputs": [],
   "source": [
    "#append the data\n",
    "wb = Workbook()\n",
    "ws = wb.active"
   ]
  },
  {
   "cell_type": "code",
   "execution_count": 13,
   "metadata": {},
   "outputs": [],
   "source": [
    "data = ( \n",
    "(\"Product\",\"Cost Price\",\"Selling Price\"), \n",
    "(\"earpod\",90, 50), \n",
    "(\"laptop\", 3000, 8200), \n",
    "(\"smartphone\", 5100, 7200) \n",
    ")"
   ]
  },
  {
   "cell_type": "code",
   "execution_count": 14,
   "metadata": {},
   "outputs": [],
   "source": [
    "for i in data: \n",
    "   ws.append(i)"
   ]
  },
  {
   "cell_type": "code",
   "execution_count": 15,
   "metadata": {},
   "outputs": [],
   "source": [
    "wb.save('ou.xlsx')"
   ]
  },
  {
   "cell_type": "code",
   "execution_count": null,
   "metadata": {},
   "outputs": [],
   "source": []
  }
 ],
 "metadata": {
  "kernelspec": {
   "display_name": "webs-54kv3FmY",
   "language": "python",
   "name": "python3"
  },
  "language_info": {
   "codemirror_mode": {
    "name": "ipython",
    "version": 3
   },
   "file_extension": ".py",
   "mimetype": "text/x-python",
   "name": "python",
   "nbconvert_exporter": "python",
   "pygments_lexer": "ipython3",
   "version": "3.9.13"
  },
  "orig_nbformat": 4,
  "vscode": {
   "interpreter": {
    "hash": "b8223f2ae80f6479e1171376b2d519fbbfac12c1eb8d0abb962746b89892edc5"
   }
  }
 },
 "nbformat": 4,
 "nbformat_minor": 2
}
