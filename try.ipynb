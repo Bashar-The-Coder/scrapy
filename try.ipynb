{
 "cells": [
  {
   "cell_type": "code",
   "execution_count": 56,
   "metadata": {},
   "outputs": [],
   "source": [
    "url = \"https://www.motorcyclebd.com/green-tiger-gt-vive/\""
   ]
  },
  {
   "cell_type": "code",
   "execution_count": 67,
   "metadata": {},
   "outputs": [],
   "source": [
    "for_bike_spec_url = url.split(\"/\")\n",
    "# for_bike_spec_url = for_bike_spec_url.insert(3, \"specs\")\n",
    "# for_bike_spec_url = \"\".join(for_bike_spec_url)\n",
    "for_bike_spec_url.insert(3, \"specs\")\n"
   ]
  },
  {
   "cell_type": "code",
   "execution_count": 68,
   "metadata": {},
   "outputs": [],
   "source": [
    "for_bike_spec_url = \"/\".join(for_bike_spec_url)"
   ]
  },
  {
   "cell_type": "code",
   "execution_count": 69,
   "metadata": {},
   "outputs": [
    {
     "data": {
      "text/plain": [
       "'https://www.motorcyclebd.com/specs/green-tiger-gt-vive/'"
      ]
     },
     "execution_count": 69,
     "metadata": {},
     "output_type": "execute_result"
    }
   ],
   "source": [
    "for_bike_spec_url"
   ]
  },
  {
   "cell_type": "code",
   "execution_count": null,
   "metadata": {},
   "outputs": [],
   "source": []
  }
 ],
 "metadata": {
  "kernelspec": {
   "display_name": "Python 3.9.13 64-bit ('3.9.13')",
   "language": "python",
   "name": "python3"
  },
  "language_info": {
   "codemirror_mode": {
    "name": "ipython",
    "version": 3
   },
   "file_extension": ".py",
   "mimetype": "text/x-python",
   "name": "python",
   "nbconvert_exporter": "python",
   "pygments_lexer": "ipython3",
   "version": "3.9.13"
  },
  "orig_nbformat": 4,
  "vscode": {
   "interpreter": {
    "hash": "b380aebf12a4dbdfb95b37bb187dd55497b7c23725e89e26c7a846df0fc0210c"
   }
  }
 },
 "nbformat": 4,
 "nbformat_minor": 2
}
