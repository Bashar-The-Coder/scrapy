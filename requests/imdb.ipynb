{
 "cells": [
  {
   "cell_type": "code",
   "execution_count": 1,
   "metadata": {},
   "outputs": [],
   "source": [
    "listx = []"
   ]
  },
  {
   "cell_type": "code",
   "execution_count": 16,
   "metadata": {},
   "outputs": [],
   "source": [
    "import requests\n",
    "import pandas as pd\n",
    "import json\n",
    "\n",
    "\n",
    "url = \"https://quotes15.p.rapidapi.com/quotes/random/\"\n",
    "\n",
    "headers = {\n",
    "\t\"X-RapidAPI-Key\": \"d0720593damsh6a850fbada104cbp17bc70jsn5dcb6a4aa8a8\",\n",
    "\t\"X-RapidAPI-Host\": \"quotes15.p.rapidapi.com\"\n",
    "}\n",
    "\n",
    "for i in range (0, 5):\n",
    "\tresponse = requests.request(\"GET\", url, headers=headers)\n",
    "\tlistx.append(response.text)\n"
   ]
  },
  {
   "cell_type": "code",
   "execution_count": 17,
   "metadata": {},
   "outputs": [
    {
     "name": "stdout",
     "output_type": "stream",
     "text": [
      "['{\"id\":279601,\"language_code\":\"en\",\"content\":\"When the snow fall\\\\r\\\\nand the white winds blow,\\\\r\\\\nthe lone wolf dies\\\\r\\\\nbut the pack survives.\",\"url\":\"https://quotepark.com/quotes/279601-george-raymond-richard-martin-when-the-snow-fall-and-the-white-winds-blow-the/\",\"originator\":{\"id\":164716,\"name\":\"George Raymond Richard Martin\",\"url\":\"https://quotepark.com/authors/george-raymond-richard-martin/\"},\"tags\":[\"Wolf\",\"blow\",\"fall\",\"pack\",\"snow\",\"survival\",\"white\",\"wind\"]}', '{\"id\":274704,\"language_code\":\"en\",\"content\":\"I\\'m not crazy, my reality is just different than yours.\",\"url\":\"https://quotepark.com/quotes/274704-tim-burton-im-not-crazy-my-reality-is-just-different-than-y/\",\"originator\":{\"id\":129012,\"name\":\"Tim Burton\",\"url\":\"https://quotepark.com/authors/tim-burton/\"},\"tags\":[\"nota\",\"Realita\",\"Reality\",\"crazy\",\"difference\"]}', '{\"id\":1318691,\"language_code\":\"en\",\"content\":\"You have power over your mind - not outside events. Realize this, and you will find strength.\",\"url\":\"https://quotepark.com/quotes/1318691-marcus-aurelius-you-have-power-over-your-mind-not-outside-events/\",\"originator\":{\"id\":128184,\"name\":\"Marcus Aurelius\",\"url\":\"https://quotepark.com/authors/marcus-aurelius/\"},\"tags\":[\"event\",\"finding\",\"mind\",\"outside\",\"power\",\"realization\",\"strength\",\"Success\"]}', '{\"id\":2103248,\"language_code\":\"en\",\"content\":\"A genius will always go to bed after 2am\",\"url\":\"https://quotepark.com/quotes/2103248-cornelius-keagon-a-genius-will-always-go-to-bed-after-2am/\",\"originator\":{\"id\":283607,\"name\":\"Cornelius Keagon\",\"url\":\"https://quotepark.com/authors/cornelius-keagon/\"},\"tags\":[\"bed\",\"genius\",\"going\"]}', '{\"id\":1973902,\"language_code\":\"en\",\"content\":\"I believe in love at first sight. You want that connection, and then you want some problems.\",\"url\":\"https://quotepark.com/quotes/1973902-keanu-reeves-i-believe-in-love-at-first-sight-you-want-that-co/\",\"originator\":{\"id\":217850,\"name\":\"Keanu Reeves\",\"url\":\"https://quotepark.com/authors/keanu-reeves/\"},\"tags\":[\"Love\",\"Making love\",\"Problem\",\"believer\",\"connection\",\"first\",\"sight\",\"want\"]}', '{\"message\":\"You have exceeded the rate limit per second for your plan, BASIC, by the API provider\"}', '{\"message\":\"You have exceeded the rate limit per second for your plan, BASIC, by the API provider\"}', '{\"message\":\"You have exceeded the rate limit per second for your plan, BASIC, by the API provider\"}', '{\"message\":\"You have exceeded the rate limit per second for your plan, BASIC, by the API provider\"}', '{\"message\":\"You have exceeded the rate limit per second for your plan, BASIC, by the API provider\"}', '{\"message\":\"You have exceeded the rate limit per second for your plan, BASIC, by the API provider\"}', '{\"message\":\"You have exceeded the rate limit per second for your plan, BASIC, by the API provider\"}', '{\"message\":\"You have exceeded the rate limit per second for your plan, BASIC, by the API provider\"}', '{\"message\":\"You have exceeded the rate limit per second for your plan, BASIC, by the API provider\"}', '{\"message\":\"You have exceeded the rate limit per second for your plan, BASIC, by the API provider\"}', '{\"message\":\"You have exceeded the rate limit per second for your plan, BASIC, by the API provider\"}', '{\"message\":\"You have exceeded the rate limit per second for your plan, BASIC, by the API provider\"}', '{\"message\":\"You have exceeded the rate limit per second for your plan, BASIC, by the API provider\"}', '{\"message\":\"You have exceeded the rate limit per second for your plan, BASIC, by the API provider\"}', '{\"id\":2110805,\"language_code\":\"en\",\"content\":\"A genius is born whenever he proves many facts wrong.\",\"url\":\"https://quotepark.com/quotes/2110805-mwanandeke-kindembo-a-genius-is-born-whenever-he-proves-many-facts-wro/\",\"originator\":{\"id\":284126,\"name\":\"Mwanandeke Kindembo\",\"url\":\"https://quotepark.com/authors/mwanandeke-kindembo/\"},\"tags\":[\"fact\",\"genius\",\"many\",\"wrong\"]}', '{\"id\":1320226,\"language_code\":\"en\",\"content\":\"Man is the most insane species. He worships an invisible God and destroys a visible Nature. Unaware that this Nature he’s destroying is this God he’s worshiping.\",\"url\":\"https://quotepark.com/quotes/1320226-hubert-reeves-man-is-the-most-insane-species-he-worships-an-inv/\",\"originator\":{\"id\":141861,\"name\":\"Hubert Reeves\",\"url\":\"https://quotepark.com/authors/hubert-reeves/\"},\"tags\":[\"God\",\"Nature\",\"man\",\"most\",\"species\",\"worship\",\"worshiper\"]}', '{\"id\":2111523,\"language_code\":\"en\",\"content\":\"Pure philosophy is not for the impulsive souls. People who are still offended by simple words or a finger pointed at them.\",\"url\":\"https://quotepark.com/quotes/2111523-mwanandeke-kindembo-pure-philosophy-is-not-for-the-impulsive-souls-pe/\",\"originator\":{\"id\":284126,\"name\":\"Mwanandeke Kindembo\",\"url\":\"https://quotepark.com/authors/mwanandeke-kindembo/\"},\"tags\":[\"People\",\"Soul\",\"finger\",\"impulse\",\"philosophy\",\"point\",\"simple\",\"still\",\"word\",\"wording\"]}', '{\"id\":2111485,\"language_code\":\"en\",\"content\":\"Nationalism is so beautiful for nationalists. At the same time, you are really opposed to the unification of the world.\",\"url\":\"https://quotepark.com/quotes/2111485-mwanandeke-kindembo-nationalism-is-so-beautiful-for-nationalists-at-t/\",\"originator\":{\"id\":284126,\"name\":\"Mwanandeke Kindembo\",\"url\":\"https://quotepark.com/authors/mwanandeke-kindembo/\"},\"tags\":[\"World\",\"Beauty\",\"Time\",\"nation\",\"nationality\",\"timing\"]}', '{\"id\":1306150,\"language_code\":\"en\",\"content\":\"Pooh, how do you spell love?\\' \\'You don\\'t spell love Piglet, you feel it\",\"url\":\"https://quotepark.com/quotes/1306150-aa-milne-pooh-how-do-you-spell-love-you-dont-spell-lov/\",\"originator\":{\"id\":127891,\"name\":\"A.A. Milne\",\"url\":\"https://quotepark.com/authors/aa-milne/\"},\"tags\":[\"Love\",\"Feeling\",\"doing\",\"feel\",\"piglet\",\"spell\",\"spelling\",\"For Parents\"]}', '{\"id\":1180558,\"language_code\":\"en\",\"content\":\"Someday we shall look back on this dark era of agriculture and shake our heads. How could we have ever believed that it was a good idea to grow our food with poisons?\",\"url\":\"https://quotepark.com/quotes/1180558-jane-goodall-someday-we-shall-look-back-on-this-dark-era-of-agr/\",\"originator\":{\"id\":128365,\"name\":\"Jane Goodall\",\"url\":\"https://quotepark.com/authors/jane-goodall/\"},\"tags\":[\"Food\",\"Idea\",\"agriculture\",\"back\",\"believer\",\"dark\",\"darkness\",\"era\",\"good\",\"goodness\",\"head\",\"look\",\"poison\",\"poisoning\"]}', '{\"id\":821211,\"language_code\":\"en\",\"content\":\"If my art has nothing to do with people\\'s pain and sorrow, what is \\'art\\' for?\",\"url\":\"https://quotepark.com/quotes/821211-ai-weiwei-if-my-art-has-nothing-to-do-with-peoples-pain-and/\",\"originator\":{\"id\":132306,\"name\":\"Ai Weiwei\",\"url\":\"https://quotepark.com/authors/ai-weiwei/\"},\"tags\":[\"Pain\",\"People\",\"Art\",\"doing\",\"nothing\",\"sorrow\"]}', '{\"message\":\"You have exceeded the rate limit per second for your plan, BASIC, by the API provider\"}', '{\"message\":\"You have exceeded the rate limit per second for your plan, BASIC, by the API provider\"}', '{\"message\":\"You have exceeded the rate limit per second for your plan, BASIC, by the API provider\"}', '{\"message\":\"You have exceeded the rate limit per second for your plan, BASIC, by the API provider\"}', '{\"message\":\"You have exceeded the rate limit per second for your plan, BASIC, by the API provider\"}', '{\"message\":\"You have exceeded the rate limit per second for your plan, BASIC, by the API provider\"}', '{\"message\":\"You have exceeded the rate limit per second for your plan, BASIC, by the API provider\"}', '{\"message\":\"You have exceeded the rate limit per second for your plan, BASIC, by the API provider\"}', '{\"id\":1787399,\"language_code\":\"en\",\"content\":\"We live in a world where the funeral matters more than the dead, the wedding more than love and the physical rather than the intellect. We live in the container culture, which despises the content.\",\"url\":\"https://quotepark.com/quotes/1787399-eduardo-galeano-we-live-in-a-world-where-the-funeral-matters-more/\",\"originator\":{\"id\":214251,\"name\":\"Eduardo Galeano\",\"url\":\"https://quotepark.com/authors/eduardo-galeano/\"},\"tags\":[\"Love\",\"World\",\"Wedding\",\"Dead\",\"container\",\"content\",\"contention\",\"culture\",\"funeral\",\"intellect\",\"living\",\"matter\",\"physical\",\"physics\"]}', '{\"message\":\"You have exceeded the rate limit per second for your plan, BASIC, by the API provider\"}', '{\"message\":\"You have exceeded the rate limit per second for your plan, BASIC, by the API provider\"}', '{\"message\":\"You have exceeded the rate limit per second for your plan, BASIC, by the API provider\"}', '{\"id\":2069180,\"language_code\":\"en\",\"content\":\"Wake up and smell the coffee\\\\r\\\\nIs your cup half full or empty?\",\"url\":\"https://quotepark.com/quotes/2069180-billie-eilish-wake-up-and-smell-the-coffee-is-your-cup-half-ful/\",\"originator\":{\"id\":280874,\"name\":\"Billie Eilish\",\"url\":\"https://quotepark.com/authors/billie-eilish/\"},\"tags\":[\"Coffee\",\"cup\",\"full\",\"half\",\"smell\",\"wake\"]}']\n"
     ]
    }
   ],
   "source": [
    "print (listx)"
   ]
  },
  {
   "cell_type": "code",
   "execution_count": 16,
   "metadata": {},
   "outputs": [],
   "source": [
    "res = json.dumps(response.json())\n",
    "list_dict = json.loads( res)"
   ]
  },
  {
   "cell_type": "code",
   "execution_count": 18,
   "metadata": {},
   "outputs": [],
   "source": [
    "df = pd.DataFrame(listx)"
   ]
  },
  {
   "cell_type": "code",
   "execution_count": null,
   "metadata": {},
   "outputs": [],
   "source": []
  }
 ],
 "metadata": {
  "kernelspec": {
   "display_name": "webs-54kv3FmY",
   "language": "python",
   "name": "python3"
  },
  "language_info": {
   "codemirror_mode": {
    "name": "ipython",
    "version": 3
   },
   "file_extension": ".py",
   "mimetype": "text/x-python",
   "name": "python",
   "nbconvert_exporter": "python",
   "pygments_lexer": "ipython3",
   "version": "3.9.13"
  },
  "orig_nbformat": 4,
  "vscode": {
   "interpreter": {
    "hash": "b8223f2ae80f6479e1171376b2d519fbbfac12c1eb8d0abb962746b89892edc5"
   }
  }
 },
 "nbformat": 4,
 "nbformat_minor": 2
}
