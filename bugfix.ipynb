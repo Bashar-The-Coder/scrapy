{
 "cells": [
  {
   "cell_type": "code",
   "execution_count": 36,
   "metadata": {},
   "outputs": [
    {
     "name": "stdout",
     "output_type": "stream",
     "text": [
      "Success!\n",
      "HTTP error occurred: 404 Client Error: Not Found for url: https://api.github.com/invalid\n",
      "HTTP error occurred: 403 Client Error: Forbidden for url: https://www.ogaan.com/pagelayout/plp/pagerequest?is_ajax=1&req_data%5Bp_no%5D=7&req_data%5Bc_id%5D=3&req_data%5Bc_level%5D=2&req_data%5Bc_has_child%5D=&req_data%5Bc_name%5D=Just%20In&req_data%5Bc_par_id%5D=2&req_data%5Bcat_url_key%5D=just-in&req_data%5Bcat_url_path%5D=just-in&req_data%5Bcat_path%5D=1/2/3&req_data%5Bscroll_req%5D=1&req_data%5Bcon_code%5D=BD&is_search=0\n"
     ]
    }
   ],
   "source": [
    "import requests\n",
    "from requests.exceptions import HTTPError\n",
    "\n",
    "long_url = \"https://www.ogaan.com/pagelayout/plp/pagerequest?is_ajax=1&req_data[p_no]=7&req_data[c_id]=3&req_data[c_level]=2&req_data[c_has_child]=&req_data[c_name]=Just%20In&req_data[c_par_id]=2&req_data[cat_url_key]=just-in&req_data[cat_url_path]=just-in&req_data[cat_path]=1/2/3&req_data[scroll_req]=1&req_data[con_code]=BD&is_search=0\"\n",
    "\n",
    "for url in ['https://api.github.com', 'https://api.github.com/invalid' , long_url]:\n",
    "    try:\n",
    "        response = requests.get(url)\n",
    "        \n",
    "\n",
    "        # If the response was successful, no Exception will be raised\n",
    "        response.raise_for_status()\n",
    "    except HTTPError as http_err:\n",
    "        print(f'HTTP error occurred: {http_err}')  # Python 3.6\n",
    "    except Exception as err:\n",
    "        print(f'Other error occurred: {err}')  # Python 3.6\n",
    "    else:\n",
    "        print('Success!')"
   ]
  },
  {
   "cell_type": "code",
   "execution_count": 71,
   "metadata": {},
   "outputs": [
    {
     "data": {
      "text/plain": [
       "bytes"
      ]
     },
     "execution_count": 71,
     "metadata": {},
     "output_type": "execute_result"
    }
   ],
   "source": [
    "# !The response of a GET request often has some valuable information, \n",
    "# known as a payload, in the message body. Using the attributes and \n",
    "# methods of Response, you can view the payload in a variety of different formats.\n",
    "# To see the response’s content in bytes, you use .content:\n",
    "response = requests.get(\"https://api.github.com\")\n",
    "res_fix =  requests.get(\"https://fixit.com.bd\")\n",
    "response_byte = response.content\n",
    "type(response_byte)"
   ]
  },
  {
   "cell_type": "code",
   "execution_count": 72,
   "metadata": {},
   "outputs": [],
   "source": [
    "# While .content gives you access to the raw bytes \n",
    "# of the response payload, you will often want to convert them into a \n",
    "# string using a character encoding such as UTF-8. response will do that for you when you access .text:\n",
    "res_text = response.text\n"
   ]
  },
  {
   "cell_type": "code",
   "execution_count": 73,
   "metadata": {},
   "outputs": [
    {
     "data": {
      "text/plain": [
       "'utf-8'"
      ]
     },
     "execution_count": 73,
     "metadata": {},
     "output_type": "execute_result"
    }
   ],
   "source": [
    "# Because the decoding of bytes to a str\n",
    "# requires an encoding scheme, requests will try to\n",
    "# guess the encoding based on the response’s \n",
    "# headers if you do not specify one. You can provide an explicit encoding by setting .encoding before accessing .text:\n",
    "response.encoding"
   ]
  },
  {
   "cell_type": "code",
   "execution_count": 74,
   "metadata": {},
   "outputs": [],
   "source": [
    "# If you take a look at the response, \n",
    "# you’ll see that it is actually serialized JSON content.\n",
    "#  To get a dictionary, you could take the str you retrieved from .\n",
    "#  text and deserialize it using json.loads(). However, a simpler way to accomplish this task is to use .json():\n",
    "json_to_dict = response.json()"
   ]
  },
  {
   "cell_type": "code",
   "execution_count": 80,
   "metadata": {},
   "outputs": [
    {
     "data": {
      "text/plain": [
       "{'Connection': 'Keep-Alive', 'Keep-Alive': 'timeout=5, max=100', 'x-powered-by': 'PHP/7.4.32', 'last-modified': 'Sun, 27 Nov 2022 09:38:23 GMT', 'content-type': 'text/html; charset=UTF-8', 'cache-control': 'public, max-age=0', 'expires': 'Sun, 27 Nov 2022 10:01:29 GMT', 'transfer-encoding': 'chunked', 'content-encoding': 'gzip', 'vary': 'Accept-Encoding,Accept-Encoding', 'date': 'Sun, 27 Nov 2022 10:01:29 GMT', 'server': 'LiteSpeed', 'platform': 'hostinger', 'content-security-policy': 'upgrade-insecure-requests', 'alt-svc': 'h3=\":443\"; ma=2592000, h3-29=\":443\"; ma=2592000, h3-Q050=\":443\"; ma=2592000, h3-Q046=\":443\"; ma=2592000, h3-Q043=\":443\"; ma=2592000, quic=\":443\"; ma=2592000; v=\"43,46\"'}"
      ]
     },
     "execution_count": 80,
     "metadata": {},
     "output_type": "execute_result"
    }
   ],
   "source": [
    "# The response headers can give you useful information, \n",
    "# such as the content type of the response\n",
    "# payload and a time limit on how long to cache the response. \n",
    "# To view these headers, access .headers:\n",
    "headers = response.headers\n",
    "fix_headers = res_fix.headers\n",
    "fix_headers"
   ]
  },
  {
   "cell_type": "code",
   "execution_count": 86,
   "metadata": {},
   "outputs": [
    {
     "data": {
      "text/plain": [
       "'application/json; charset=utf-8'"
      ]
     },
     "execution_count": 86,
     "metadata": {},
     "output_type": "execute_result"
    }
   ],
   "source": [
    "# .headers returns a dictionary-like object, allowing you \n",
    "# to access header values by key. For example, to see the \n",
    "# content type of the response payload, you can access Content-Type:\n",
    "response.headers['content-Type']\n",
    "# fix_headers['Content-Type']"
   ]
  },
  {
   "cell_type": "code",
   "execution_count": 94,
   "metadata": {},
   "outputs": [
    {
     "data": {
      "text/plain": [
       "'text/html; charset=UTF-8'"
      ]
     },
     "execution_count": 94,
     "metadata": {},
     "output_type": "execute_result"
    }
   ],
   "source": [
    "#\n",
    "\n",
    "search = requests.get(\"https://fixit.com.bd/\" , params={'q' : 's=epoxy&post_type=product'})\n"
   ]
  },
  {
   "cell_type": "code",
   "execution_count": 95,
   "metadata": {},
   "outputs": [
    {
     "data": {
      "text/plain": [
       "'text/html; charset=UTF-8'"
      ]
     },
     "execution_count": 95,
     "metadata": {},
     "output_type": "execute_result"
    }
   ],
   "source": [
    "search.headers['content-type']"
   ]
  },
  {
   "cell_type": "code",
   "execution_count": 96,
   "metadata": {},
   "outputs": [
    {
     "data": {
      "text/plain": [
       "<RequestsCookieJar[Cookie(version=0, name='PHPSESSID', value='8634b96c9caf2e1f08c15cbb6b655225', port=None, port_specified=False, domain='fixit.com.bd', domain_specified=False, domain_initial_dot=False, path='/', path_specified=True, secure=True, expires=None, discard=True, comment=None, comment_url=None, rest={}, rfc2109=False), Cookie(version=0, name='mailchimp_landing_site', value='https%3A%2F%2Ffixit.com.bd%2F%3Fq%3Ds%253Depoxy%2526post_type%253Dproduct', port=None, port_specified=False, domain='fixit.com.bd', domain_specified=False, domain_initial_dot=False, path='/', path_specified=True, secure=True, expires=1671963222, discard=False, comment=None, comment_url=None, rest={'SameSite': 'Strict'}, rfc2109=False)]>"
      ]
     },
     "execution_count": 96,
     "metadata": {},
     "output_type": "execute_result"
    }
   ],
   "source": [
    "search.cookies"
   ]
  },
  {
   "cell_type": "code",
   "execution_count": 98,
   "metadata": {},
   "outputs": [],
   "source": [
    "payload = {'user_login': 'anonymous', 'user_pass': 'PASSWORD'}\n",
    "url = 'https://fixit.com.bd/wp-login.php?redirect_to=https%3A%2F%2Ffixit.com.bd%2Fwp-admin%2F&reauth=1'\n",
    "x = requests.post(url, data=payload)"
   ]
  },
  {
   "cell_type": "code",
   "execution_count": 99,
   "metadata": {},
   "outputs": [
    {
     "data": {
      "text/plain": [
       "'<!DOCTYPE html>\\n\\t<html lang=\"en-US\">\\n\\t<head>\\n\\t<meta http-equiv=\"Content-Type\" content=\"text/html; charset=UTF-8\" />\\n\\t<title>Log In &lsaquo; fixit.com.bd &#8212; WordPress</title>\\n\\t<meta name=\\'robots\\' content=\\'noindex, follow\\' />\\n<link href=\\'https://fonts.gstatic.com\\' crossorigin rel=\\'preconnect\\' />\\n<script type=\\'text/javascript\\' src=\\'https://fixit.com.bd/wp-includes/js/jquery/jquery.min.js?ver=3.6.1\\' id=\\'jquery-core-js\\'></script>\\n<script type=\\'text/javascript\\' src=\\'https://fixit.com.bd/wp-includes/js/jquery/jquery-migrate.min.js?ver=3.3.2\\' id=\\'jquery-migrate-js\\'></script>\\n<script type=\\'text/javascript\\' src=\\'https://fixit.com.bd/wp-content/plugins/wpf-drop-uploader/js/drop_uploader.js?ver=6.1\\' id=\\'drop_uploader-js\\'></script>\\n<script type=\\'text/javascript\\' id=\\'wp_drop_uploader-js-extra\\'>\\n/* <![CDATA[ */\\nvar wpfdu_localize = {\"uploader_text\":\"Drop files here, or\",\"browse_text\":\"Browse\",\"only_one_error_text\":\"Only one file allowed\",\"not_allowed_error_text\":\"File type is not allowed\",\"big_file_before_error_text\":\"Files, bigger than\",\"big_file_after_error_text\":\"is not allowed\",\"allowed_before_error_text\":\"Only\",\"allowed_after_error_text\":\"files allowed\",\"browse_css_class\":\"\",\"uploader_icon\":\"<i class=\\\\\"pe-7s-cloud-upload\\\\\"><\\\\/i>\",\"file_icon\":\"<i class=\\\\\"pe-7s-file\\\\\"><\\\\/i>\",\"progress_color\":\"#4A90E2\",\"time_show_errors\":\"5\",\"layout\":\"thumbnails\",\"ajax_url\":\"https:\\\\/\\\\/fixit.com.bd\\\\/wp-admin\\\\/admin-ajax.php\"};\\n/* ]]> */\\n</script>\\n<script type=\\'text/javascript\\' src=\\'https://fixit.com.bd/wp-content/plugins/wpf-drop-uploader/js/wp_drop_uploader.js?ver=6.1\\' id=\\'wp_drop_uploader-js\\'></script>\\n<link rel=\\'stylesheet\\' id=\\'drop_uploader-css\\' href=\\'https://fixit.com.bd/wp-content/plugins/wpf-drop-uploader/css/drop_uploader.css?ver=6.1\\' type=\\'text/css\\' media=\\'all\\' />\\n<link rel=\\'stylesheet\\' id=\\'pe-icon-7-stroke-css\\' href=\\'https://fixit.com.bd/wp-content/plugins/wpf-drop-uploader/pe-icon-7-stroke/css/pe-icon-7-stroke.css?ver=6.1\\' type=\\'text/css\\' media=\\'all\\' />\\n<link rel=\\'stylesheet\\' id=\\'dashicons-css\\' href=\\'https://fixit.com.bd/wp-includes/css/dashicons.min.css?ver=6.1\\' type=\\'text/css\\' media=\\'all\\' />\\n<link rel=\\'stylesheet\\' id=\\'buttons-css\\' href=\\'https://fixit.com.bd/wp-includes/css/buttons.min.css?ver=6.1\\' type=\\'text/css\\' media=\\'all\\' />\\n<link rel=\\'stylesheet\\' id=\\'forms-css\\' href=\\'https://fixit.com.bd/wp-admin/css/forms.min.css?ver=6.1\\' type=\\'text/css\\' media=\\'all\\' />\\n<link rel=\\'stylesheet\\' id=\\'l10n-css\\' href=\\'https://fixit.com.bd/wp-admin/css/l10n.min.css?ver=6.1\\' type=\\'text/css\\' media=\\'all\\' />\\n<link rel=\\'stylesheet\\' id=\\'login-css\\' href=\\'https://fixit.com.bd/wp-admin/css/login.min.css?ver=6.1\\' type=\\'text/css\\' media=\\'all\\' />\\n<link rel=\\'stylesheet\\' id=\\'ywsl_frontend-css\\' href=\\'https://fixit.com.bd/wp-content/plugins/yith-woocommerce-social-login-premium/assets/css/frontend.css?ver=6.1\\' type=\\'text/css\\' media=\\'all\\' />\\n\\t<meta name=\\'referrer\\' content=\\'strict-origin-when-cross-origin\\' />\\n\\t\\t<meta name=\"viewport\" content=\"width=device-width\" />\\n\\t<link rel=\"icon\" href=\"http://fixit.com.bd/wp-content/uploads/2021/06/fav-icon-1-100x100.png\" sizes=\"32x32\" />\\n<link rel=\"icon\" href=\"http://fixit.com.bd/wp-content/uploads/2021/06/fav-icon-1.png\" sizes=\"192x192\" />\\n<link rel=\"apple-touch-icon\" href=\"http://fixit.com.bd/wp-content/uploads/2021/06/fav-icon-1.png\" />\\n<meta name=\"msapplication-TileImage\" content=\"http://fixit.com.bd/wp-content/uploads/2021/06/fav-icon-1.png\" />\\n\\t</head>\\n\\t<body class=\"login no-js login-action-login wp-core-ui  locale-en-us\">\\n\\t<script type=\"text/javascript\">\\n\\t\\tdocument.body.className = document.body.className.replace(\\'no-js\\',\\'js\\');\\n\\t</script>\\n\\t\\t<div id=\"login\">\\n\\t\\t<h1><a href=\"https://wordpress.org/\">Powered by WordPress</a></h1>\\n\\t\\n\\t\\t<form name=\"loginform\" id=\"loginform\" action=\"https://fixit.com.bd/wp-login.php\" method=\"post\">\\n\\t\\t\\t<p>\\n\\t\\t\\t\\t<label for=\"user_login\">Username or Email Address</label>\\n\\t\\t\\t\\t<input type=\"text\" name=\"log\" id=\"user_login\" class=\"input\" value=\"\" size=\"20\" autocapitalize=\"off\" autocomplete=\"username\" />\\n\\t\\t\\t</p>\\n\\n\\t\\t\\t<div class=\"user-pass-wrap\">\\n\\t\\t\\t\\t<label for=\"user_pass\">Password</label>\\n\\t\\t\\t\\t<div class=\"wp-pwd\">\\n\\t\\t\\t\\t\\t<input type=\"password\" name=\"pwd\" id=\"user_pass\" class=\"input password-input\" value=\"\" size=\"20\" autocomplete=\"current-password\" />\\n\\t\\t\\t\\t\\t<button type=\"button\" class=\"button button-secondary wp-hide-pw hide-if-no-js\" data-toggle=\"0\" aria-label=\"Show password\">\\n\\t\\t\\t\\t\\t\\t<span class=\"dashicons dashicons-visibility\" aria-hidden=\"true\"></span>\\n\\t\\t\\t\\t\\t</button>\\n\\t\\t\\t\\t</div>\\n\\t\\t\\t</div>\\n\\t\\t\\t\\n<div class=\"wc-social-login\">\\n\\t<style>\\n        a.ywsl-social {\\n            text-decoration: none;\\n            display: inline-block;\\n            margin-right: 2px;\\n        }\\n\\t</style>\\n\\t\\t<p class=\"ywsl-label\">Login with:</p>\\n\\t\\t<div class=\"socials-list\">\\n\\t\\t<div class=\"ywsl-social ywsl-google\" data-social=\"google\"><img src=\"http://fixit.com.bd/wp-content/uploads/2022/08/Google-6.png\" alt=\"Google\"/></div><div class=\"ywsl-social ywsl-facebook\" data-social=\"facebook\"><img src=\"http://fixit.com.bd/wp-content/uploads/2022/08/FB-6.png\" alt=\"Facebook\"/></div>\\t</div>\\n</div>\\t\\t\\t<p class=\"forgetmenot\"><input name=\"rememberme\" type=\"checkbox\" id=\"rememberme\" value=\"forever\"  /> <label for=\"rememberme\">Remember Me</label></p>\\n\\t\\t\\t<p class=\"submit\">\\n\\t\\t\\t\\t<input type=\"submit\" name=\"wp-submit\" id=\"wp-submit\" class=\"button button-primary button-large\" value=\"Log In\" />\\n\\t\\t\\t\\t\\t\\t\\t\\t\\t<input type=\"hidden\" name=\"redirect_to\" value=\"https://fixit.com.bd/wp-admin/\" />\\n\\t\\t\\t\\t\\t\\t\\t\\t\\t<input type=\"hidden\" name=\"testcookie\" value=\"1\" />\\n\\t\\t\\t</p>\\n\\t\\t</form>\\n\\n\\t\\t\\t\\t\\t<p id=\"nav\">\\n\\t\\t\\t\\t<a href=\"https://fixit.com.bd/my-account/lost-password/\">Lost your password?</a>\\t\\t\\t</p>\\n\\t\\t\\t\\t\\t<script type=\"text/javascript\">\\n\\t\\t\\tfunction wp_attempt_focus() {setTimeout( function() {try {d = document.getElementById( \"user_login\" );d.focus(); d.select();} catch( er ) {}}, 200);}\\nwp_attempt_focus();\\nif ( typeof wpOnload === \\'function\\' ) { wpOnload() }\\t\\t</script>\\n\\t\\t\\t\\t<p id=\"backtoblog\">\\n\\t\\t\\t<a href=\"https://fixit.com.bd/\">&larr; Go to fixit.com.bd</a>\\t\\t</p>\\n\\t\\t<div class=\"privacy-policy-page-link\"><a class=\"privacy-policy-link\" href=\"https://fixit.com.bd/privacy-policy-2/\">Fixit.com.bd Privacy Policy</a></div>\\t</div>\\n\\t\\t\\t<script type=\\'text/javascript\\' id=\\'ywsl_frontend_social-js-extra\\'>\\n/* <![CDATA[ */\\nvar ywsl = {\"google\":\"https:\\\\/\\\\/fixit.com.bd\\\\/wp-login.php?ywsl_social=google&redirect=https%3A%2F%2Ffixit.com.bd%3A443%2Fwp-login.php%3Fredirect_to%3Dhttps%253A%252F%252Ffixit.com.bd%252Fwp-admin%252F%26reauth%3D1\",\"facebook\":\"https:\\\\/\\\\/fixit.com.bd\\\\/wp-login.php?ywsl_social=facebook&redirect=https%3A%2F%2Ffixit.com.bd%3A443%2Fwp-login.php%3Fredirect_to%3Dhttps%253A%252F%252Ffixit.com.bd%252Fwp-admin%252F%26reauth%3D1\"};\\n/* ]]> */\\n</script>\\n<script type=\\'text/javascript\\' src=\\'https://fixit.com.bd/wp-content/plugins/yith-woocommerce-social-login-premium/assets/js/frontend.min.js?ver=1669545447\\' id=\\'ywsl_frontend_social-js\\'></script>\\n<script type=\\'text/javascript\\' id=\\'zxcvbn-async-js-extra\\'>\\n/* <![CDATA[ */\\nvar _zxcvbnSettings = {\"src\":\"https:\\\\/\\\\/fixit.com.bd\\\\/wp-includes\\\\/js\\\\/zxcvbn.min.js\"};\\n/* ]]> */\\n</script>\\n<script type=\\'text/javascript\\' src=\\'https://fixit.com.bd/wp-includes/js/zxcvbn-async.min.js?ver=1.0\\' id=\\'zxcvbn-async-js\\'></script>\\n<script type=\\'text/javascript\\' src=\\'https://fixit.com.bd/wp-includes/js/dist/vendor/regenerator-runtime.min.js?ver=0.13.9\\' id=\\'regenerator-runtime-js\\'></script>\\n<script type=\\'text/javascript\\' src=\\'https://fixit.com.bd/wp-includes/js/dist/vendor/wp-polyfill.min.js?ver=3.15.0\\' id=\\'wp-polyfill-js\\'></script>\\n<script type=\\'text/javascript\\' src=\\'https://fixit.com.bd/wp-includes/js/dist/hooks.min.js?ver=4169d3cf8e8d95a3d6d5\\' id=\\'wp-hooks-js\\'></script>\\n<script type=\\'text/javascript\\' src=\\'https://fixit.com.bd/wp-includes/js/dist/i18n.min.js?ver=9e794f35a71bb98672ae\\' id=\\'wp-i18n-js\\'></script>\\n<script type=\\'text/javascript\\' id=\\'wp-i18n-js-after\\'>\\nwp.i18n.setLocaleData( { \\'text direction\\\\u0004ltr\\': [ \\'ltr\\' ] } );\\n</script>\\n<script type=\\'text/javascript\\' id=\\'password-strength-meter-js-extra\\'>\\n/* <![CDATA[ */\\nvar pwsL10n = {\"unknown\":\"Password strength unknown\",\"short\":\"Very weak\",\"bad\":\"Weak\",\"good\":\"Medium\",\"strong\":\"Strong\",\"mismatch\":\"Mismatch\"};\\n/* ]]> */\\n</script>\\n<script type=\\'text/javascript\\' src=\\'https://fixit.com.bd/wp-admin/js/password-strength-meter.min.js?ver=6.1\\' id=\\'password-strength-meter-js\\'></script>\\n<script type=\\'text/javascript\\' src=\\'https://fixit.com.bd/wp-includes/js/underscore.min.js?ver=1.13.4\\' id=\\'underscore-js\\'></script>\\n<script type=\\'text/javascript\\' id=\\'wp-util-js-extra\\'>\\n/* <![CDATA[ */\\nvar _wpUtilSettings = {\"ajax\":{\"url\":\"\\\\/wp-admin\\\\/admin-ajax.php\"}};\\n/* ]]> */\\n</script>\\n<script type=\\'text/javascript\\' src=\\'https://fixit.com.bd/wp-includes/js/wp-util.min.js?ver=6.1\\' id=\\'wp-util-js\\'></script>\\n<script type=\\'text/javascript\\' id=\\'user-profile-js-extra\\'>\\n/* <![CDATA[ */\\nvar userProfileL10n = {\"user_id\":\"0\",\"nonce\":\"d940e9da63\"};\\n/* ]]> */\\n</script>\\n<script type=\\'text/javascript\\' src=\\'https://fixit.com.bd/wp-admin/js/user-profile.min.js?ver=6.1\\' id=\\'user-profile-js\\'></script>\\n<script type=\"text/javascript\" id=\"flying-scripts\">const loadScriptsTimer=setTimeout(loadScripts,5*1000);const userInteractionEvents=[\"mouseover\",\"keydown\",\"touchstart\",\"touchmove\",\"wheel\"];userInteractionEvents.forEach(function(event){window.addEventListener(event,triggerScriptLoader,{passive:!0})});function triggerScriptLoader(){loadScripts();clearTimeout(loadScriptsTimer);userInteractionEvents.forEach(function(event){window.removeEventListener(event,triggerScriptLoader,{passive:!0})})}\\r\\nfunction loadScripts(){document.querySelectorAll(\"script[data-type=\\'lazy\\']\").forEach(function(elem){elem.setAttribute(\"src\",elem.getAttribute(\"data-src\"))})}</script>\\r\\n    \\t<div class=\"clear\"></div>\\n\\t</body>\\n\\t</html>\\n\\t'"
      ]
     },
     "execution_count": 99,
     "metadata": {},
     "output_type": "execute_result"
    }
   ],
   "source": [
    "x.text"
   ]
  },
  {
   "cell_type": "code",
   "execution_count": null,
   "metadata": {},
   "outputs": [],
   "source": []
  }
 ],
 "metadata": {
  "kernelspec": {
   "display_name": "Python 3.10.8 64-bit",
   "language": "python",
   "name": "python3"
  },
  "language_info": {
   "codemirror_mode": {
    "name": "ipython",
    "version": 3
   },
   "file_extension": ".py",
   "mimetype": "text/x-python",
   "name": "python",
   "nbconvert_exporter": "python",
   "pygments_lexer": "ipython3",
   "version": "3.10.8"
  },
  "orig_nbformat": 4,
  "vscode": {
   "interpreter": {
    "hash": "4ced234c871c9b29a4056513ccc24c81d69a18e49ff88a0b6b2ad2f395e3caca"
   }
  }
 },
 "nbformat": 4,
 "nbformat_minor": 2
}
