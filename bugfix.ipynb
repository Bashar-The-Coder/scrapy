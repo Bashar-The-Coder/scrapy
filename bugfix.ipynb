{
 "cells": [
  {
   "cell_type": "code",
   "execution_count": 36,
   "metadata": {},
   "outputs": [
    {
     "name": "stdout",
     "output_type": "stream",
     "text": [
      "Success!\n",
      "HTTP error occurred: 404 Client Error: Not Found for url: https://api.github.com/invalid\n",
      "HTTP error occurred: 403 Client Error: Forbidden for url: https://www.ogaan.com/pagelayout/plp/pagerequest?is_ajax=1&req_data%5Bp_no%5D=7&req_data%5Bc_id%5D=3&req_data%5Bc_level%5D=2&req_data%5Bc_has_child%5D=&req_data%5Bc_name%5D=Just%20In&req_data%5Bc_par_id%5D=2&req_data%5Bcat_url_key%5D=just-in&req_data%5Bcat_url_path%5D=just-in&req_data%5Bcat_path%5D=1/2/3&req_data%5Bscroll_req%5D=1&req_data%5Bcon_code%5D=BD&is_search=0\n"
     ]
    }
   ],
   "source": [
    "import requests\n",
    "from requests.exceptions import HTTPError\n",
    "\n",
    "long_url = \"https://www.ogaan.com/pagelayout/plp/pagerequest?is_ajax=1&req_data[p_no]=7&req_data[c_id]=3&req_data[c_level]=2&req_data[c_has_child]=&req_data[c_name]=Just%20In&req_data[c_par_id]=2&req_data[cat_url_key]=just-in&req_data[cat_url_path]=just-in&req_data[cat_path]=1/2/3&req_data[scroll_req]=1&req_data[con_code]=BD&is_search=0\"\n",
    "\n",
    "for url in ['https://api.github.com', 'https://api.github.com/invalid' , long_url]:\n",
    "    try:\n",
    "        response = requests.get(url)\n",
    "        \n",
    "\n",
    "        # If the response was successful, no Exception will be raised\n",
    "        response.raise_for_status()\n",
    "    except HTTPError as http_err:\n",
    "        print(f'HTTP error occurred: {http_err}')  # Python 3.6\n",
    "    except Exception as err:\n",
    "        print(f'Other error occurred: {err}')  # Python 3.6\n",
    "    else:\n",
    "        print('Success!')"
   ]
  },
  {
   "cell_type": "code",
   "execution_count": 71,
   "metadata": {},
   "outputs": [
    {
     "data": {
      "text/plain": [
       "bytes"
      ]
     },
     "execution_count": 71,
     "metadata": {},
     "output_type": "execute_result"
    }
   ],
   "source": [
    "# !The response of a GET request often has some valuable information, \n",
    "# known as a payload, in the message body. Using the attributes and \n",
    "# methods of Response, you can view the payload in a variety of different formats.\n",
    "# To see the response’s content in bytes, you use .content:\n",
    "response = requests.get(\"https://api.github.com\")\n",
    "res_fix =  requests.get(\"https://fixit.com.bd\")\n",
    "response_byte = response.content\n",
    "type(response_byte)"
   ]
  },
  {
   "cell_type": "code",
   "execution_count": 72,
   "metadata": {},
   "outputs": [],
   "source": [
    "# While .content gives you access to the raw bytes \n",
    "# of the response payload, you will often want to convert them into a \n",
    "# string using a character encoding such as UTF-8. response will do that for you when you access .text:\n",
    "res_text = response.text\n"
   ]
  },
  {
   "cell_type": "code",
   "execution_count": 73,
   "metadata": {},
   "outputs": [
    {
     "data": {
      "text/plain": [
       "'utf-8'"
      ]
     },
     "execution_count": 73,
     "metadata": {},
     "output_type": "execute_result"
    }
   ],
   "source": [
    "# Because the decoding of bytes to a str\n",
    "# requires an encoding scheme, requests will try to\n",
    "# guess the encoding based on the response’s \n",
    "# headers if you do not specify one. You can provide an explicit encoding by setting .encoding before accessing .text:\n",
    "response.encoding"
   ]
  },
  {
   "cell_type": "code",
   "execution_count": 74,
   "metadata": {},
   "outputs": [],
   "source": [
    "# If you take a look at the response, \n",
    "# you’ll see that it is actually serialized JSON content.\n",
    "#  To get a dictionary, you could take the str you retrieved from .\n",
    "#  text and deserialize it using json.loads(). However, a simpler way to accomplish this task is to use .json():\n",
    "json_to_dict = response.json()"
   ]
  },
  {
   "cell_type": "code",
   "execution_count": 80,
   "metadata": {},
   "outputs": [
    {
     "data": {
      "text/plain": [
       "{'Connection': 'Keep-Alive', 'Keep-Alive': 'timeout=5, max=100', 'x-powered-by': 'PHP/7.4.32', 'last-modified': 'Sun, 27 Nov 2022 09:38:23 GMT', 'content-type': 'text/html; charset=UTF-8', 'cache-control': 'public, max-age=0', 'expires': 'Sun, 27 Nov 2022 10:01:29 GMT', 'transfer-encoding': 'chunked', 'content-encoding': 'gzip', 'vary': 'Accept-Encoding,Accept-Encoding', 'date': 'Sun, 27 Nov 2022 10:01:29 GMT', 'server': 'LiteSpeed', 'platform': 'hostinger', 'content-security-policy': 'upgrade-insecure-requests', 'alt-svc': 'h3=\":443\"; ma=2592000, h3-29=\":443\"; ma=2592000, h3-Q050=\":443\"; ma=2592000, h3-Q046=\":443\"; ma=2592000, h3-Q043=\":443\"; ma=2592000, quic=\":443\"; ma=2592000; v=\"43,46\"'}"
      ]
     },
     "execution_count": 80,
     "metadata": {},
     "output_type": "execute_result"
    }
   ],
   "source": [
    "# The response headers can give you useful information, \n",
    "# such as the content type of the response\n",
    "# payload and a time limit on how long to cache the response. \n",
    "# To view these headers, access .headers:\n",
    "headers = response.headers\n",
    "fix_headers = res_fix.headers\n",
    "fix_headers"
   ]
  },
  {
   "cell_type": "code",
   "execution_count": 86,
   "metadata": {},
   "outputs": [
    {
     "data": {
      "text/plain": [
       "'application/json; charset=utf-8'"
      ]
     },
     "execution_count": 86,
     "metadata": {},
     "output_type": "execute_result"
    }
   ],
   "source": [
    "# .headers returns a dictionary-like object, allowing you \n",
    "# to access header values by key. For example, to see the \n",
    "# content type of the response payload, you can access Content-Type:\n",
    "response.headers['content-Type']\n",
    "# fix_headers['Content-Type']"
   ]
  },
  {
   "cell_type": "code",
   "execution_count": 94,
   "metadata": {},
   "outputs": [
    {
     "data": {
      "text/plain": [
       "'text/html; charset=UTF-8'"
      ]
     },
     "execution_count": 94,
     "metadata": {},
     "output_type": "execute_result"
    }
   ],
   "source": [
    "#\n",
    "\n",
    "search = requests.get(\"https://fixit.com.bd/\" , params={'q' : 's=epoxy&post_type=product'})\n"
   ]
  },
  {
   "cell_type": "code",
   "execution_count": 95,
   "metadata": {},
   "outputs": [
    {
     "data": {
      "text/plain": [
       "'text/html; charset=UTF-8'"
      ]
     },
     "execution_count": 95,
     "metadata": {},
     "output_type": "execute_result"
    }
   ],
   "source": [
    "search.headers['content-type']"
   ]
  },
  {
   "cell_type": "code",
   "execution_count": 96,
   "metadata": {},
   "outputs": [
    {
     "data": {
      "text/plain": [
       "<RequestsCookieJar[Cookie(version=0, name='PHPSESSID', value='8634b96c9caf2e1f08c15cbb6b655225', port=None, port_specified=False, domain='fixit.com.bd', domain_specified=False, domain_initial_dot=False, path='/', path_specified=True, secure=True, expires=None, discard=True, comment=None, comment_url=None, rest={}, rfc2109=False), Cookie(version=0, name='mailchimp_landing_site', value='https%3A%2F%2Ffixit.com.bd%2F%3Fq%3Ds%253Depoxy%2526post_type%253Dproduct', port=None, port_specified=False, domain='fixit.com.bd', domain_specified=False, domain_initial_dot=False, path='/', path_specified=True, secure=True, expires=1671963222, discard=False, comment=None, comment_url=None, rest={'SameSite': 'Strict'}, rfc2109=False)]>"
      ]
     },
     "execution_count": 96,
     "metadata": {},
     "output_type": "execute_result"
    }
   ],
   "source": [
    "search.cookies"
   ]
  },
  {
   "cell_type": "code",
   "execution_count": 98,
   "metadata": {},
   "outputs": [],
   "source": [
    "payload = {'user_login': 'anonymous', 'user_pass': 'PASSWORD'}\n",
    "url = 'https://fixit.com.bd/wp-login.php?redirect_to=https%3A%2F%2Ffixit.com.bd%2Fwp-admin%2F&reauth=1'\n",
    "x = requests.post(url, data=payload)"
   ]
  },
  {
   "cell_type": "code",
   "execution_count": 1,
   "metadata": {},
   "outputs": [],
   "source": [
    "import requests\n",
    "\n",
    "bd = \"https://www.bd-pratidin.com/world-cup-2022/2022/11/27/833440\"\n",
    "\n",
    "bd = requests.get(bd)"
   ]
  },
  {
   "cell_type": "code",
   "execution_count": 3,
   "metadata": {},
   "outputs": [],
   "source": [
    "\n",
    "# remove html\n",
    "txt = \"<article class=\\\"mt-3\\\" id=\\\"bpsepnil\\\">\\n<div class=\\\"article-ad-right ms-2 mb-2\\\">\\n<div data-position=\\\"desktop-details-article-right\\\" class=\\\"m-0 p-0\\\">\\n<div class=\\\"ads bg-light mb-2 d-flex justify-content-center\\\"><div class=\\\"ad_cl-19\\\" data-id=\\\"19\\\">\\n<div id=\\\"div-gpt-ad-1631793377702-0\\\" style=\\\"min-width: 300px; min-height: 250px;\\\">\\n<script>\\r\\n    googletag.cmd.push(function() { googletag.display('div-gpt-ad-1631793377702-0'); });\\r\\n  </script>\\n</div></div></div></div>\\n</div>\\n<p> এ বারের ফুটবল বিশ্বকাপে আবার অঘটন। মরক্কোর কাছে ০-২ গোলে হেরে গেল বেলজিয়াম। দ্বিতীয়ার্ধে মরক্কোর হয়ে গোল দু’টি করেন আব্দেল হামিদ সাবিরি ও জাকারিয়া আবৌখলাল। প্রথমার্ধে মরক্কোর একটি গোল বাতিল হয়। নইলে লজ্জা আরও বাড়তো বেলজিয়ামের।</p>\\n<p> বিশ্বকাপের গ্রুপ পর্বে এর আগে কখনো আফ্রিকান দেশের বিপক্ষে হারেনি বেলজিয়াম। হারেনি প্রথম রাউন্ডে খেলা নিজেদের শেষ ৮ ম্যাচেই। কিন্তু বিশ্বকাপে নিজেদের ৫০তম ম্যাচটিতে ভেঙে গেল অপরাজেয় ধারা। আজ মরক্কোর কাছে ২-০ গোলে হেরে গেছে গতবারের সেমিফাইনালিস্টরা।</p>\\nফিফা র‍্যাঙ্কিংয়ে ২ নম্বরে থাকা দলটি আফ্রিকার পরাশক্তি মরক্কোর কাছে ২-০ গোলে হেরে বিপাকে পড়েছে।\\n<p> মরক্কোর হয়ে গোলদুটি এসেছে আব্দুলহামিদ সাবিরি ও জাকারিয়া আবুখলালের কাছ থেকে।</p>\\n<p> কানাডার বিপক্ষে জিতলেও ফেবারিট তকমা নিয়ে কাতারে পা দেয়া বেলজিয়াম সেরা ছন্দে ছিল না। আশা করা হচ্ছিল মরক্কোর বিপক্ষে হয়ত নিজেদের ফিরে পাবে তারা। কিন্তু কিসের কি, উল্টো আফ্রিকার দেশটির বিপক্ষে হেরে বসেছে ডি ব্রুইনারা।</p>\\n<p> বিডি প্রতিদিন/আরাফাত</p>\\n</article>\"\n",
    "\n",
    "def remove_html_tags(text):\n",
    "    \"\"\"Remove html tags from a string\"\"\"\n",
    "    import re\n",
    "    clean = re.compile('<.*?>')\n",
    "    return re.sub(clean, '', text)"
   ]
  },
  {
   "cell_type": "code",
   "execution_count": 4,
   "metadata": {},
   "outputs": [
    {
     "name": "stdout",
     "output_type": "stream",
     "text": [
      "\n",
      "\n",
      "\n",
      "\n",
      "\n",
      "\n",
      "    googletag.cmd.push(function() { googletag.display('div-gpt-ad-1631793377702-0'); });\n",
      "  \n",
      "\n",
      "\n",
      " এ বারের ফুটবল বিশ্বকাপে আবার অঘটন। মরক্কোর কাছে ০-২ গোলে হেরে গেল বেলজিয়াম। দ্বিতীয়ার্ধে মরক্কোর হয়ে গোল দু’টি করেন আব্দেল হামিদ সাবিরি ও জাকারিয়া আবৌখলাল। প্রথমার্ধে মরক্কোর একটি গোল বাতিল হয়। নইলে লজ্জা আরও বাড়তো বেলজিয়ামের।\n",
      " বিশ্বকাপের গ্রুপ পর্বে এর আগে কখনো আফ্রিকান দেশের বিপক্ষে হারেনি বেলজিয়াম। হারেনি প্রথম রাউন্ডে খেলা নিজেদের শেষ ৮ ম্যাচেই। কিন্তু বিশ্বকাপে নিজেদের ৫০তম ম্যাচটিতে ভেঙে গেল অপরাজেয় ধারা। আজ মরক্কোর কাছে ২-০ গোলে হেরে গেছে গতবারের সেমিফাইনালিস্টরা।\n",
      "ফিফা র‍্যাঙ্কিংয়ে ২ নম্বরে থাকা দলটি আফ্রিকার পরাশক্তি মরক্কোর কাছে ২-০ গোলে হেরে বিপাকে পড়েছে।\n",
      " মরক্কোর হয়ে গোলদুটি এসেছে আব্দুলহামিদ সাবিরি ও জাকারিয়া আবুখলালের কাছ থেকে।\n",
      " কানাডার বিপক্ষে জিতলেও ফেবারিট তকমা নিয়ে কাতারে পা দেয়া বেলজিয়াম সেরা ছন্দে ছিল না। আশা করা হচ্ছিল মরক্কোর বিপক্ষে হয়ত নিজেদের ফিরে পাবে তারা। কিন্তু কিসের কি, উল্টো আফ্রিকার দেশটির বিপক্ষে হেরে বসেছে ডি ব্রুইনারা।\n",
      " বিডি প্রতিদিন/আরাফাত\n",
      "\n"
     ]
    }
   ],
   "source": [
    "print (remove_html_tags(txt))"
   ]
  },
  {
   "cell_type": "code",
   "execution_count": null,
   "metadata": {},
   "outputs": [],
   "source": []
  }
 ],
 "metadata": {
  "kernelspec": {
   "display_name": "Python 3.9.12 ('base')",
   "language": "python",
   "name": "python3"
  },
  "language_info": {
   "codemirror_mode": {
    "name": "ipython",
    "version": 3
   },
   "file_extension": ".py",
   "mimetype": "text/x-python",
   "name": "python",
   "nbconvert_exporter": "python",
   "pygments_lexer": "ipython3",
   "version": "3.9.12"
  },
  "orig_nbformat": 4,
  "vscode": {
   "interpreter": {
    "hash": "3d9568491606bbba8ecadb3ffcb0ed4f24b42faa9767943a1e41a6b22fe0ed36"
   }
  }
 },
 "nbformat": 4,
 "nbformat_minor": 2
}
